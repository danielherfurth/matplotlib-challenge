{
 "cells": [
  {
   "cell_type": "markdown",
   "source": [
    "1. There is a moderate correlation between a mouse's weight and tumor volume.\n",
    "2. The box plot shows that there is no statistically significant difference between Capomulin and Ceftamine,\n",
    "nor between Ramicane and Infubinol.\n",
    "3. Ramicane is interesting in that it is one of the least effective drugs in terms of reducing tumor\n",
    "size, but the mice remained in the study long enough to record the second-highest number of timepoints."
   ],
   "metadata": {
    "collapsed": false,
    "pycharm": {
     "name": "#%% md\n"
    }
   }
  },
  {
   "cell_type": "markdown",
   "metadata": {
    "collapsed": true,
    "pycharm": {
     "name": "#%% md\n"
    }
   },
   "source": [
    "_NOTE_: each markdown cell contains bullet points directly copied and pasted from the readme. Most comments from the starter notebook are also included.\n",
    "\n",
    "\n",
    "Before beginning the analysis, check the data for any mouse ID with duplicate time points and remove any data associated with that mouse ID."
   ]
  },
  {
   "cell_type": "code",
   "source": [
    "# initial imports, definitions, data, and options.\n",
    "import matplotlib.pyplot as plt\n",
    "import scipy.stats as st\n",
    "import pandas as pd\n",
    "\n",
    "mouse_metadata_path = 'data/Mouse_metadata.csv'\n",
    "study_results_path = 'data/Study_results.csv'\n",
    "\n",
    "# Read the mouse data and the study results\n",
    "mouse_metadata = pd.read_csv(mouse_metadata_path)\n",
    "study_results = pd.read_csv(study_results_path)\n",
    "\n",
    "# Combine the data into a single dataset\n",
    "combined_df = pd.merge(mouse_metadata, study_results)\n",
    "\n",
    "# region\n",
    "\n",
    "# make pandas display more of the output in my code editor\n",
    "# region\n",
    "pd.set_option('display.max_rows', 1000)\n",
    "pd.set_option('display.max_columns', 500)\n",
    "pd.set_option('display.width', 1000)\n",
    "\n",
    "\n",
    "# endregion\n",
    "\n",
    "# function to make data easier to work with\n",
    "def spaceless_lowers(dataframe):\n",
    "    \"\"\"\n",
    "    :param dataframe: a dataframe with columns that have spaces and uppercase letters\n",
    "    :return: a dataframe with the spaces replaced with _ and all caps made lowercase.\n",
    "    \"\"\"\n",
    "    try:\n",
    "        cols = dataframe.columns\n",
    "        cols = [col.replace(' ', '_').lower() for col in cols]\n",
    "        dataframe.columns = cols\n",
    "\n",
    "        return dataframe\n",
    "\n",
    "    except NameError:\n",
    "        print('There is an unresolved reference to the dataframe in the function\\'s argument.\\n'\n",
    "              'Make sure that the dataframe has been read and defined.')\n",
    "\n",
    "\n",
    "# save original col names in case i need to revert them\n",
    "mouse_cols_original = mouse_metadata.columns\n",
    "study_cols_original = study_results.columns\n",
    "combined_cols_original = combined_df.columns\n",
    "\n",
    "df_list = [mouse_metadata, study_results, combined_df]\n",
    "\n",
    "# call the fcn on all 3 dfs\n",
    "for df in df_list:\n",
    "    df = spaceless_lowers(df)\n",
    "\n",
    "# ints are far more efficient and easier to work with than strings\n",
    "combined_df.sex.replace(\n",
    "        {\n",
    "                'Female': 0,\n",
    "                'Male': 1\n",
    "        },\n",
    "        inplace=True\n",
    ")\n",
    "# endregion\n",
    "\n",
    "# Display the data table for preview\n",
    "print(combined_df)"
   ],
   "metadata": {
    "collapsed": false,
    "pycharm": {
     "name": "#%%\n"
    }
   },
   "execution_count": 1,
   "outputs": [
    {
     "name": "stdout",
     "output_type": "stream",
     "text": [
      "     mouse_id drug_regimen  sex  age_months  weight_(g)  timepoint  tumor_volume_(mm3)  metastatic_sites\n",
      "0        k403     Ramicane    1          21          16          0           45.000000                 0\n",
      "1        k403     Ramicane    1          21          16          5           38.825898                 0\n",
      "2        k403     Ramicane    1          21          16         10           35.014271                 1\n",
      "3        k403     Ramicane    1          21          16         15           34.223992                 1\n",
      "4        k403     Ramicane    1          21          16         20           32.997729                 1\n",
      "...       ...          ...  ...         ...         ...        ...                 ...               ...\n",
      "1888     z969     Naftisol    1           9          30         25           63.145652                 2\n",
      "1889     z969     Naftisol    1           9          30         30           65.841013                 3\n",
      "1890     z969     Naftisol    1           9          30         35           69.176246                 4\n",
      "1891     z969     Naftisol    1           9          30         40           70.314904                 4\n",
      "1892     z969     Naftisol    1           9          30         45           73.867845                 4\n",
      "\n",
      "[1893 rows x 8 columns]\n"
     ]
    }
   ]
  },
  {
   "cell_type": "code",
   "execution_count": 2,
   "outputs": [
    {
     "name": "stdout",
     "output_type": "stream",
     "text": [
      "249\n"
     ]
    }
   ],
   "source": [
    "# Checking the number of mice.\n",
    "print(combined_df.mouse_id.nunique())"
   ],
   "metadata": {
    "collapsed": false,
    "pycharm": {
     "name": "#%%\n"
    }
   }
  },
  {
   "cell_type": "code",
   "execution_count": 3,
   "outputs": [
    {
     "name": "stdout",
     "output_type": "stream",
     "text": [
      "['g989']\n"
     ]
    }
   ],
   "source": [
    "# Getting the duplicate mice by ID number that shows up for Mouse ID and Timepoint.\n",
    "mice = combined_df[combined_df.duplicated(subset=['mouse_id', 'timepoint'])]['mouse_id'].unique()\n",
    "\n",
    "print(mice)"
   ],
   "metadata": {
    "collapsed": false,
    "pycharm": {
     "name": "#%%\n"
    }
   }
  },
  {
   "cell_type": "code",
   "execution_count": 4,
   "outputs": [
    {
     "name": "stdout",
     "output_type": "stream",
     "text": [
      "    mouse_id drug_regimen  sex  age_months  weight_(g)  timepoint  tumor_volume_(mm3)  metastatic_sites\n",
      "908     g989     Propriva    0          21          26          0           45.000000                 0\n",
      "909     g989     Propriva    0          21          26          0           45.000000                 0\n",
      "910     g989     Propriva    0          21          26          5           48.786801                 0\n",
      "911     g989     Propriva    0          21          26          5           47.570392                 0\n",
      "912     g989     Propriva    0          21          26         10           51.745156                 0\n",
      "913     g989     Propriva    0          21          26         10           49.880528                 0\n",
      "914     g989     Propriva    0          21          26         15           51.325852                 1\n",
      "915     g989     Propriva    0          21          26         15           53.442020                 0\n",
      "916     g989     Propriva    0          21          26         20           55.326122                 1\n",
      "917     g989     Propriva    0          21          26         20           54.657650                 1\n",
      "918     g989     Propriva    0          21          26         25           56.045564                 1\n",
      "919     g989     Propriva    0          21          26         30           59.082294                 1\n",
      "920     g989     Propriva    0          21          26         35           62.570880                 2\n"
     ]
    }
   ],
   "source": [
    "# Optional: Get all the data for the duplicate mouse ID.\n",
    "# im not entirely sure what this is asking, so i hope this is correct.\n",
    "optional_df = combined_df.drop(combined_df[~combined_df.mouse_id.isin(mice)].index)\n",
    "print(optional_df)"
   ],
   "metadata": {
    "collapsed": false,
    "pycharm": {
     "name": "#%%\n"
    }
   }
  },
  {
   "cell_type": "code",
   "execution_count": 5,
   "outputs": [
    {
     "name": "stdout",
     "output_type": "stream",
     "text": [
      "248\n"
     ]
    }
   ],
   "source": [
    "# Create a clean DataFrame by dropping the duplicate mouse by its ID.\n",
    "cleaned_df = combined_df.drop(combined_df[combined_df.mouse_id.isin(mice)].index)\n",
    "\n",
    "# Checking the number of mice in the clean DataFrame.\n",
    "print(cleaned_df.mouse_id.nunique())"
   ],
   "metadata": {
    "collapsed": false,
    "pycharm": {
     "name": "#%%\n"
    }
   }
  },
  {
   "cell_type": "markdown",
   "source": [
    "## Summary Statistics\n",
    "Generate a summary statistics table consisting of the mean, median, variance, standard deviation, and SEM of the tumor volume for each drug regimen."
   ],
   "metadata": {
    "collapsed": false
   }
  },
  {
   "cell_type": "code",
   "execution_count": 6,
   "outputs": [
    {
     "name": "stdout",
     "output_type": "stream",
     "text": [
      "                Mean  Median     Var  Stdev    SEM\n",
      "Drug Regimen                                      \n",
      "Capomulin     40.676  41.558  24.948  4.995  0.329\n",
      "Ceftamin      52.591  51.776  39.290  6.268  0.470\n",
      "Infubinol     52.885  51.821  43.129  6.567  0.492\n",
      "Ketapril      55.236  53.699  68.554  8.280  0.604\n",
      "Naftisol      54.332  52.509  66.173  8.135  0.596\n",
      "Placebo       54.034  52.289  61.168  7.821  0.581\n",
      "Propriva      52.321  50.446  43.852  6.622  0.544\n",
      "Ramicane      40.217  40.673  23.487  4.846  0.321\n",
      "Stelasyn      54.233  52.432  59.451  7.710  0.573\n",
      "Zoniferol     53.237  51.818  48.533  6.967  0.516\n"
     ]
    }
   ],
   "source": [
    "stats_to_get = 'mean median var std sem'.split()\n",
    "\n",
    "\n",
    "# region\n",
    "def the_mean(gbo):\n",
    "    return gbo.mean()\n",
    "\n",
    "\n",
    "def the_median(gbo):\n",
    "    return gbo.median()\n",
    "\n",
    "\n",
    "def the_var(gbo):\n",
    "    return gbo.var()\n",
    "\n",
    "\n",
    "def the_std(gbo):\n",
    "    return gbo.std()\n",
    "\n",
    "\n",
    "def the_sem(gbo):\n",
    "    return gbo.sem()\n",
    "\n",
    "\n",
    "# endregion\n",
    "\n",
    "stats_table = cleaned_df.groupby('drug_regimen')\n",
    "\n",
    "fcns = [the_mean, the_median, the_var, the_std, the_sem]\n",
    "names = ['mean', 'median', 'var', 'stdev', 'sem']\n",
    "names = [name.title() if name != 'sem' else name.upper() for name in names]\n",
    "fcn_names = dict(zip(names, fcns))\n",
    "\n",
    "the_long_way = {}\n",
    "\n",
    "for k, v in fcn_names.items():\n",
    "    the_long_way[k] = v(stats_table)['tumor_volume_(mm3)']\n",
    "\n",
    "df_long_way = round(pd.DataFrame(the_long_way).rename_axis(mouse_cols_original[1]), 3)\n",
    "print(df_long_way)"
   ],
   "metadata": {
    "collapsed": false,
    "pycharm": {
     "name": "#%%\n"
    }
   }
  },
  {
   "cell_type": "markdown",
   "source": [
    "Generate a summary statistics table of mean, median, variance, standard deviation, and SEM of the tumor volume for each regimen.\n",
    "\n",
    "Using the aggregation method, produce the same summary statistics in a single line"
   ],
   "metadata": {
    "collapsed": false,
    "pycharm": {
     "name": "#%% md\n"
    }
   }
  },
  {
   "cell_type": "code",
   "execution_count": 7,
   "outputs": [
    {
     "name": "stdout",
     "output_type": "stream",
     "text": [
      "                Mean  Median     Var    Std    SEM\n",
      "Drug Regimen                                      \n",
      "Capomulin     40.676  41.558  24.948  4.995  0.329\n",
      "Ceftamin      52.591  51.776  39.290  6.268  0.470\n",
      "Infubinol     52.885  51.821  43.129  6.567  0.492\n",
      "Ketapril      55.236  53.699  68.554  8.280  0.604\n",
      "Naftisol      54.332  52.509  66.173  8.135  0.596\n",
      "Placebo       54.034  52.289  61.168  7.821  0.581\n",
      "Propriva      52.321  50.446  43.852  6.622  0.544\n",
      "Ramicane      40.217  40.673  23.487  4.846  0.321\n",
      "Stelasyn      54.233  52.432  59.451  7.710  0.573\n",
      "Zoniferol     53.237  51.818  48.533  6.967  0.516\n"
     ]
    }
   ],
   "source": [
    "why_couldnt_i_do_this_earlier = round(\n",
    "        stats_table.agg(stats_to_get)['tumor_volume_(mm3)'].rename_axis(mouse_cols_original[1]), 3)\n",
    "\n",
    "why_couldnt_i_do_this_earlier.columns = [col.title() if col != 'sem' else col.upper() for col in\n",
    "                                         why_couldnt_i_do_this_earlier.columns]\n",
    "\n",
    "# Assemble the resulting series into a single summary dataframe.\n",
    "print(why_couldnt_i_do_this_earlier)"
   ],
   "metadata": {
    "collapsed": false,
    "pycharm": {
     "name": "#%%\n"
    }
   }
  },
  {
   "cell_type": "markdown",
   "source": [
    "Generate a bar plot using both Pandas's DataFrame.plot() and Matplotlib's pyplot that shows the total number of timepoints for all mice tested for each drug regimen throughout the course of the study."
   ],
   "metadata": {
    "collapsed": false
   }
  },
  {
   "cell_type": "code",
   "execution_count": 8,
   "outputs": [
    {
     "data": {
      "text/plain": "<Figure size 720x648 with 1 Axes>",
      "image/png": "[encoded data removed]"
     },
     "metadata": {
      "needs_background": "light"
     },
     "output_type": "display_data"
    }
   ],
   "source": [
    "# pd\n",
    "gbo_drugs = combined_df.groupby('drug_regimen')['mouse_id']\n",
    "\n",
    "gbo_drugs.count().plot(\n",
    "        kind='bar',\n",
    "        title='Total Timepoints for all Mice in each Regimen',\n",
    "        figsize=(10, 9),\n",
    "        xlabel='Drug Used',\n",
    "        ylabel='Count of Timepoints per Drug',\n",
    "        rot=45\n",
    ")\n",
    "\n",
    "plt.savefig('gbo_drugs_pd.png')\n",
    "\n",
    "plt.show()"
   ],
   "metadata": {
    "collapsed": false,
    "pycharm": {
     "name": "#%%\n"
    }
   }
  },
  {
   "cell_type": "code",
   "execution_count": 9,
   "outputs": [
    {
     "data": {
      "text/plain": "<Figure size 720x648 with 1 Axes>",
      "image/png": "[encoded data removed]"
     },
     "metadata": {
      "needs_background": "light"
     },
     "output_type": "display_data"
    }
   ],
   "source": [
    "# plt\n",
    "\n",
    "x, y = gbo_drugs.groups.keys(), gbo_drugs.count()\n",
    "\n",
    "fig, ax = plt.subplots(figsize=(10, 9))\n",
    "\n",
    "plot1 = ax.bar(\n",
    "        x,\n",
    "        height=y,\n",
    "        label='Drug Regimen'\n",
    ")\n",
    "\n",
    "# below commented because NoTe: tHEsE pLOtS sHOulD lOOK IDeNtiCAl.\n",
    "# ax.bar_label(plot1)\n",
    "\n",
    "plt.xticks(rotation=45)\n",
    "\n",
    "plt.xlabel('Drug Regimen')\n",
    "plt.ylabel('Count of Timepoints per Drug')\n",
    "plt.title('Total Timepoints for all Mice in each Regimen')\n",
    "\n",
    "plt.tight_layout()\n",
    "\n",
    "plt.savefig('gbo_drugs_plt.png')\n",
    "plt.show()"
   ],
   "metadata": {
    "collapsed": false,
    "pycharm": {
     "name": "#%%\n"
    }
   }
  },
  {
   "cell_type": "markdown",
   "source": [
    "Generate a pie plot using both Pandas's DataFrame.plot() and Matplotlib's pyplot that shows the distribution of female or male mice in the study."
   ],
   "metadata": {
    "collapsed": false
   }
  },
  {
   "cell_type": "code",
   "execution_count": 10,
   "outputs": [
    {
     "data": {
      "text/plain": "<Figure size 432x432 with 1 Axes>",
      "image/png": "[encoded data removed]"
     },
     "metadata": {},
     "output_type": "display_data"
    }
   ],
   "source": [
    "gbo_sex = combined_df.groupby('sex')\n",
    "fig, ax = plt.subplots()\n",
    "\n",
    "# pd\n",
    "gbo_sex.count().plot(\n",
    "        kind='pie',\n",
    "        y='mouse_id',\n",
    "        title='Male vs Female Mice',\n",
    "        ax=ax,\n",
    "        ylabel='Count of Sex',\n",
    "        figsize=(6, 6),\n",
    "        labels=['Female', 'Male'],\n",
    "        autopct='%2.1f%%'\n",
    ")\n",
    "\n",
    "ax.legend(['Female', 'Male'])\n",
    "plt.tight_layout()\n",
    "plt.savefig('gbo_sex_pd.png')\n",
    "plt.show()"
   ],
   "metadata": {
    "collapsed": false,
    "pycharm": {
     "name": "#%%\n"
    }
   }
  },
  {
   "cell_type": "code",
   "execution_count": 11,
   "outputs": [
    {
     "data": {
      "text/plain": "<Figure size 576x576 with 1 Axes>",
      "image/png": "[encoded data removed]"
     },
     "metadata": {},
     "output_type": "display_data"
    }
   ],
   "source": [
    "# plt\n",
    "fig, ax = plt.subplots(figsize=(8, 8))\n",
    "labels = ['Female', \"Male\"]\n",
    "\n",
    "sizes = gbo_sex['sex'].count()\n",
    "\n",
    "ax.pie(\n",
    "        x=sizes,\n",
    "        labels=labels,\n",
    "        autopct='%3.1f%%',\n",
    "        textprops={'fontsize': 14}\n",
    ")\n",
    "\n",
    "plt.legend()\n",
    "\n",
    "plt.tight_layout()\n",
    "\n",
    "plt.savefig('gbo_sex_plt.png')\n",
    "plt.show()"
   ],
   "metadata": {
    "collapsed": false,
    "pycharm": {
     "name": "#%%\n"
    }
   }
  },
  {
   "cell_type": "markdown",
   "source": [
    "Calculate the final tumor volume of each mouse across four of the most promising treatment regimens: Capomulin, Ramicane, Infubinol, and Ceftamin. Calculate the quartiles and IQR and quantitatively determine if there are any potential outliers across all four treatment regimens."
   ],
   "metadata": {
    "collapsed": false
   }
  },
  {
   "cell_type": "code",
   "execution_count": 12,
   "outputs": [
    {
     "name": "stderr",
     "output_type": "stream",
     "text": [
      "C:\\Users\\danie\\anaconda3\\lib\\site-packages\\pandas\\util\\_decorators.py:311: SettingWithCopyWarning: \n",
      "A value is trying to be set on a copy of a slice from a DataFrame\n",
      "\n",
      "See the caveats in the documentation: https://pandas.pydata.org/pandas-docs/stable/user_guide/indexing.html#returning-a-view-versus-a-copy\n",
      "  return func(*args, **kwargs)\n"
     ]
    },
    {
     "data": {
      "text/plain": "drug_regimen  mouse_id\nCapomulin     b128        38.982878\n              b742        38.939633\n              f966        30.485985\n              g288        37.074024\n              g316        40.159220\n              i557        47.685963\n              i738        37.311846\n              j119        38.125164\n              j246        38.753265\n              l509        41.483008\n              l897        38.846876\n              m601        28.430964\n              m957        33.329098\n              r157        46.539206\n              r554        32.377357\n              r944        41.581521\n              s185        23.343598\n              s710        40.728578\n              t565        34.455298\n              u364        31.023923\n              v923        40.658124\n              w150        39.952347\n              w914        36.041047\n              x401        28.484033\n              y793        31.896238\nCeftamin      a275        62.999356\n              b447        45.000000\n              b487        56.057749\n              b759        55.742829\n              f436        48.722078\nName: tumor_volume_(mm3), dtype: float64"
     },
     "execution_count": 12,
     "metadata": {},
     "output_type": "execute_result"
    }
   ],
   "source": [
    "best_drugs = 'Capomulin Ramicane Infubinol Ceftamin'.split()\n",
    "best_drugs_df = combined_df[combined_df['drug_regimen'].isin(best_drugs)]\n",
    "\n",
    "best_drugs_df['drug_regimen'].unique()\n",
    "best_drugs_df.sort_values('timepoint', inplace=True)\n",
    "\n",
    "# Start by getting the last (greatest) timepoint for each mouse\n",
    "gbo_best_drugs = best_drugs_df.groupby(['drug_regimen', 'mouse_id']).last()['tumor_volume_(mm3)']\n",
    "\n",
    "gbo_best_drugs.head(30)"
   ],
   "metadata": {
    "collapsed": false,
    "pycharm": {
     "name": "#%%\n"
    }
   }
  },
  {
   "cell_type": "code",
   "execution_count": 13,
   "outputs": [
    {
     "name": "stdout",
     "output_type": "stream",
     "text": [
      "Capomulin:\n",
      "Lowerbound: 26.715\n",
      "Upperbound: 55.971\n",
      "\n",
      "Possible Outliers:\n",
      "   mouse_id drug_regimen  sex  age_months  weight_(g)  timepoint  tumor_volume_(mm3)  metastatic_sites\n",
      "18     s185    Capomulin    0           3          17         40           25.472143                 1\n",
      "19     s185    Capomulin    0           3          17         45           23.343598                 1\n",
      "\n",
      "\n",
      "Ceftamin:\n",
      "Lowerbound: 32.819\n",
      "Upperbound: 71.191\n",
      "No outliers quantitatively found.\n",
      "\n",
      "\n",
      "Infubinol:\n",
      "Lowerbound: 32.309\n",
      "Upperbound: 72.318\n",
      "No outliers quantitatively found.\n",
      "\n",
      "\n",
      "Ramicane:\n",
      "Lowerbound: 24.187\n",
      "Upperbound: 57.488\n",
      "\n",
      "Possible Outliers:\n",
      "  mouse_id drug_regimen  sex  age_months  weight_(g)  timepoint  tumor_volume_(mm3)  metastatic_sites\n",
      "9     k403     Ramicane    1          21          16         45           22.050126                 1\n",
      "\n",
      "\n"
     ]
    }
   ],
   "source": [
    "# quartiles and iqr\n",
    "\n",
    "mdf = pd.merge(cleaned_df, best_drugs_df)\n",
    "in_mdf = mdf[mdf['drug_regimen'].isin(best_drugs)]\n",
    "\n",
    "# tumor volume list\n",
    "list_tvol = in_mdf.groupby('drug_regimen')['tumor_volume_(mm3)'].apply(list)\n",
    "tvol_gbo = in_mdf.groupby('drug_regimen')\n",
    "\n",
    "quants = tvol_gbo['tumor_volume_(mm3)'].quantile([0.25, 0.75])\n",
    "quant_gbo = quants.groupby('drug_regimen')\n",
    "iqrs = quant_gbo.last() - quant_gbo.first()\n",
    "\n",
    "d = {}\n",
    "dfs = {}\n",
    "\n",
    "for drug in iqrs.index:\n",
    "    lbound = quants[drug][0.25] - 1.5 * iqrs[drug]\n",
    "    ubound = quants[drug][0.75] + 1.5 * iqrs[drug]\n",
    "\n",
    "    d[drug] = [lbound, ubound]\n",
    "\n",
    "    drug_df = in_mdf[in_mdf['drug_regimen'] == drug]\n",
    "    between_df = drug_df[~drug_df['tumor_volume_(mm3)'].between(left=d[drug][0], right=d[drug][1])]\n",
    "    dfs[drug] = between_df\n",
    "\n",
    "    if len(dfs[drug]) == 0:\n",
    "        # these line-continuation slashes are unnecessary in real python,\n",
    "        # and i find it weird that jupyter needs them.\n",
    "        output_str = f'{drug}:\\n'\\\n",
    "                     f'Lowerbound: {round(d[drug][0], 3)}\\n'\\\n",
    "                     f'Upperbound: {round(d[drug][1], 3)}\\n'\\\n",
    "                     'No outliers quantitatively found.\\n\\n'\n",
    "    else:\n",
    "        output_str = f'{drug}:\\n'\\\n",
    "                     f'Lowerbound: {round(d[drug][0], 3)}\\n'\\\n",
    "                     f'Upperbound: {round(d[drug][1], 3)}\\n\\n'\\\n",
    "                     f'Possible Outliers:\\n{dfs[drug]}\\n\\n'\n",
    "\n",
    "    print(output_str)"
   ],
   "metadata": {
    "collapsed": false,
    "pycharm": {
     "name": "#%%\n"
    }
   }
  },
  {
   "cell_type": "markdown",
   "source": [
    "Using Matplotlib, generate a box and whisker plot of the final tumor volume for all four treatment regimens and highlight any potential outliers in the plot by changing their color and style."
   ],
   "metadata": {
    "collapsed": false
   }
  },
  {
   "cell_type": "markdown",
   "source": [
    "From the [plt docs](https://matplotlib.org/3.1.1/api/_as_gen/matplotlib.axes.Axes.boxplot.html):\n",
    "- flierprops : Specifies the style of the fliers.\n",
    "\n",
    "I only changed the color, but it says to change color and style. Color is a subset of style."
   ],
   "metadata": {
    "collapsed": false,
    "pycharm": {
     "name": "#%% md\n"
    }
   }
  },
  {
   "cell_type": "code",
   "execution_count": 14,
   "outputs": [
    {
     "data": {
      "text/plain": "<Figure size 432x288 with 1 Axes>",
      "image/png": "[encoded data removed]"
     },
     "metadata": {
      "needs_background": "light"
     },
     "output_type": "display_data"
    }
   ],
   "source": [
    "fig, ax = plt.subplots()\n",
    "\n",
    "fig = ax.boxplot(\n",
    "        list_tvol,\n",
    "        labels=best_drugs,\n",
    "        flierprops={\n",
    "                'markerfacecolor': 'r'\n",
    "        }\n",
    ")\n",
    "\n",
    "ax.set_title('Tumor Volume Based on Drug Regimen')\n",
    "ax.set_xlabel('Drug Regimen')\n",
    "ax.set_ylabel('Tumor Volume (mm³)')\n",
    "\n",
    "plt.savefig('boxplot.png')\n",
    "plt.show()"
   ],
   "metadata": {
    "collapsed": false,
    "pycharm": {
     "name": "#%%\n"
    }
   }
  },
  {
   "cell_type": "markdown",
   "source": [
    "Select a mouse that was treated with Capomulin and generate a line plot of tumor volume vs. time point for that mouse.\n",
    "\n"
   ],
   "metadata": {
    "collapsed": false
   }
  },
  {
   "cell_type": "code",
   "execution_count": 15,
   "outputs": [
    {
     "name": "stderr",
     "output_type": "stream",
     "text": [
      "C:\\Users\\danie\\AppData\\Local\\Temp/ipykernel_6940/2640027999.py:4: UserWarning: Boolean Series key will be reindexed to match DataFrame index.\n",
      "  line_data = in_mdf[in_mdf.sort_values('mouse_id')['drug_regimen'] == 'Capomulin'][0:10]\n"
     ]
    },
    {
     "data": {
      "text/plain": "<Figure size 432x288 with 1 Axes>",
      "image/png": "[encoded data removed]"
     },
     "metadata": {
      "needs_background": "light"
     },
     "output_type": "display_data"
    }
   ],
   "source": [
    "# Generate a line plot of tumor volume vs. time point for a mouse treated with Capomulin\n",
    "# sort alphabetically since Capomulin will be first. Easiest to just grab the first mouse.\n",
    "# that mouse has index [0:10]\n",
    "line_data = in_mdf[in_mdf.sort_values('mouse_id')['drug_regimen'] == 'Capomulin'][0:10]\n",
    "line_data.plot(y='timepoint', x='tumor_volume_(mm3)')\n",
    "\n",
    "# get mouses name, but im only interested in the value and its first occurrence\n",
    "plt.title(f'Mouse {line_data[\"mouse_id\"].values[0]}\\'s Tumor Volume over Time')\n",
    "\n",
    "plt.xlabel('Timepoint (days)')\n",
    "plt.ylabel('Tumor Volume (mm³)')\n",
    "plt.show()"
   ],
   "metadata": {
    "collapsed": false,
    "pycharm": {
     "name": "#%%\n"
    }
   }
  },
  {
   "cell_type": "markdown",
   "source": [
    "Generate a scatter plot of tumor volume versus mouse weight for the Capomulin treatment regimen."
   ],
   "metadata": {
    "collapsed": false
   }
  },
  {
   "cell_type": "code",
   "execution_count": 16,
   "outputs": [
    {
     "data": {
      "text/plain": "<Figure size 432x288 with 1 Axes>",
      "image/png": "[encoded data removed]"
     },
     "metadata": {
      "needs_background": "light"
     },
     "output_type": "display_data"
    }
   ],
   "source": [
    "# tvol is tumor volume\n",
    "tvol_gbo = in_mdf.groupby('drug_regimen')\n",
    "capo_df = tvol_gbo.get_group('Capomulin').groupby('mouse_id').mean()\n",
    "\n",
    "plt.scatter(\n",
    "        x=capo_df['weight_(g)'],\n",
    "        y=capo_df['tumor_volume_(mm3)']\n",
    ")\n",
    "\n",
    "plt.title('Average Tumor Volume vs Average Mouse Weight (Capomulin)')\n",
    "plt.xlabel('Weight (g)')\n",
    "plt.ylabel('Tumor Volume (mm³)')\n",
    "\n",
    "plt.show()"
   ],
   "metadata": {
    "collapsed": false,
    "pycharm": {
     "name": "#%%\n"
    }
   }
  },
  {
   "cell_type": "markdown",
   "source": [
    "## Correlation and Regression\n",
    "Calculate the correlation coefficient and linear regression model between mouse weight and average tumor volume for the Capomulin treatment. Plot the linear regression model on top of the previous scatter plot."
   ],
   "metadata": {
    "collapsed": false,
    "pycharm": {
     "name": "#%% md\n"
    }
   }
  },
  {
   "cell_type": "code",
   "execution_count": 17,
   "outputs": [
    {
     "name": "stdout",
     "output_type": "stream",
     "text": [
      "The correlation between mean mouse weight and mean tumor volume is 0.842.\n"
     ]
    },
    {
     "data": {
      "text/plain": "<Figure size 432x288 with 1 Axes>",
      "image/png": "[encoded data removed]"
     },
     "metadata": {
      "needs_background": "light"
     },
     "output_type": "display_data"
    }
   ],
   "source": [
    "co = capo_df[['weight_(g)', 'tumor_volume_(mm3)']].corr()\n",
    "co = co.iloc[0][1]\n",
    "\n",
    "print(\n",
    "        f'The correlation between mean mouse weight and mean tumor volume is {round(co, 3)}.'\n",
    ")\n",
    "\n",
    "reg = st.linregress(\n",
    "        capo_df['weight_(g)'],\n",
    "        capo_df['tumor_volume_(mm3)']\n",
    ")\n",
    "\n",
    "plt.scatter(\n",
    "        x=capo_df['weight_(g)'],\n",
    "        y=capo_df['tumor_volume_(mm3)'],\n",
    "        label='Mouse Weight vs.\\n Average Tumor Volume',\n",
    ")\n",
    "\n",
    "plt.plot(\n",
    "        capo_df['weight_(g)'],\n",
    "        reg[0] * capo_df['weight_(g)'] + reg[1],\n",
    "        color='r',\n",
    "        label='Regression'\n",
    ")\n",
    "plt.legend(loc=2)\n",
    "\n",
    "plt.title('Average Tumor Volume vs Average Mouse Weight (Capomulin)')\n",
    "plt.xlabel('Weight (g)')\n",
    "plt.ylabel('Tumor Volume (mm³)')\n",
    "\n",
    "plt.savefig('combined.png')\n",
    "\n",
    "plt.show()"
   ],
   "metadata": {
    "collapsed": false,
    "pycharm": {
     "name": "#%%\n"
    }
   }
  },
  {
   "cell_type": "markdown",
   "source": [
    "Look across all previously generated figures and tables and write at least three observations or inferences that can be made from the data. Include these observations at the top of notebook."
   ],
   "metadata": {
    "collapsed": false,
    "pycharm": {
     "name": "#%% md\n"
    }
   }
  },
  {
   "cell_type": "code",
   "execution_count": 18,
   "outputs": [
    {
     "data": {
      "text/plain": "                         sex  age_months  weight_(g)  timepoint  tumor_volume_(mm3)  metastatic_sites\nsex                 1.000000    0.067077   -0.126528  -0.000775           -0.113730         -0.078719\nage_months          0.067077    1.000000    0.101805  -0.029561            0.159994          0.094027\nweight_(g)         -0.126528    0.101805    1.000000  -0.099032            0.712311          0.198575\ntimepoint          -0.000775   -0.029561   -0.099032   1.000000            0.042921          0.580503\ntumor_volume_(mm3) -0.113730    0.159994    0.712311   0.042921            1.000000          0.342229\nmetastatic_sites   -0.078719    0.094027    0.198575   0.580503            0.342229          1.000000",
      "text/html": "<div>\n<style scoped>\n    .dataframe tbody tr th:only-of-type {\n        vertical-align: middle;\n    }\n\n    .dataframe tbody tr th {\n        vertical-align: top;\n    }\n\n    .dataframe thead th {\n        text-align: right;\n    }\n</style>\n<table border=\"1\" class=\"dataframe\">\n  <thead>\n    <tr style=\"text-align: right;\">\n      <th></th>\n      <th>sex</th>\n      <th>age_months</th>\n      <th>weight_(g)</th>\n      <th>timepoint</th>\n      <th>tumor_volume_(mm3)</th>\n      <th>metastatic_sites</th>\n    </tr>\n  </thead>\n  <tbody>\n    <tr>\n      <th>sex</th>\n      <td>1.000000</td>\n      <td>0.067077</td>\n      <td>-0.126528</td>\n      <td>-0.000775</td>\n      <td>-0.113730</td>\n      <td>-0.078719</td>\n    </tr>\n    <tr>\n      <th>age_months</th>\n      <td>0.067077</td>\n      <td>1.000000</td>\n      <td>0.101805</td>\n      <td>-0.029561</td>\n      <td>0.159994</td>\n      <td>0.094027</td>\n    </tr>\n    <tr>\n      <th>weight_(g)</th>\n      <td>-0.126528</td>\n      <td>0.101805</td>\n      <td>1.000000</td>\n      <td>-0.099032</td>\n      <td>0.712311</td>\n      <td>0.198575</td>\n    </tr>\n    <tr>\n      <th>timepoint</th>\n      <td>-0.000775</td>\n      <td>-0.029561</td>\n      <td>-0.099032</td>\n      <td>1.000000</td>\n      <td>0.042921</td>\n      <td>0.580503</td>\n    </tr>\n    <tr>\n      <th>tumor_volume_(mm3)</th>\n      <td>-0.113730</td>\n      <td>0.159994</td>\n      <td>0.712311</td>\n      <td>0.042921</td>\n      <td>1.000000</td>\n      <td>0.342229</td>\n    </tr>\n    <tr>\n      <th>metastatic_sites</th>\n      <td>-0.078719</td>\n      <td>0.094027</td>\n      <td>0.198575</td>\n      <td>0.580503</td>\n      <td>0.342229</td>\n      <td>1.000000</td>\n    </tr>\n  </tbody>\n</table>\n</div>"
     },
     "execution_count": 18,
     "metadata": {},
     "output_type": "execute_result"
    }
   ],
   "source": [
    "# just here for my curiosity\n",
    "in_mdf.corr()"
   ],
   "metadata": {
    "collapsed": false,
    "pycharm": {
     "name": "#%%\n"
    }
   }
  }
 ],
 "metadata": {
  "kernelspec": {
   "name": "pycharm-50e30e5b",
   "language": "python",
   "display_name": "PyCharm (GT Data Science)"
  },
  "language_info": {
   "codemirror_mode": {
    "name": "ipython",
    "version": 2
   },
   "file_extension": ".py",
   "mimetype": "text/x-python",
   "name": "python",
   "nbconvert_exporter": "python",
   "pygments_lexer": "ipython2",
   "version": "2.7.6"
  }
 },
 "nbformat": 4,
 "nbformat_minor": 0
}