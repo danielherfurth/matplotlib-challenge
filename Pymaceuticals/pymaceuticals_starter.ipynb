{
 "cells": [
  {
   "cell_type": "markdown",
   "metadata": {},
   "source": [
    "## Observations and Insights "
   ]
  },
  {
   "cell_type": "markdown",
   "metadata": {},
   "source": [
    "### There are several areas where the comments in here depart from the directions in the readme.\n",
    "\n",
    "When that happens, I generally go with what the comments here say."
   ]
  },
  {
   "cell_type": "code",
   "execution_count": 1,
   "metadata": {},
   "outputs": [],
   "source": [
    "# Dependencies and Setup\n",
    "import matplotlib.pyplot as plt\n",
    "import pandas as pd\n",
    "import scipy.stats as st\n",
    "\n",
    "# region\n",
    "pd.set_option('display.max_rows', 1000)\n",
    "pd.set_option('display.max_columns', 500)\n",
    "pd.set_option('display.width', 1000)\n",
    "\n",
    "\n",
    "def spaceless_lowers(dataframe):\n",
    "    \"\"\"\n",
    "    :param dataframe: a dataframe with columns that have spaces and uppercase letters\n",
    "    :return: a dataframe with the spaces replaced with _ and all caps made lowercase.\n",
    "    \"\"\"\n",
    "    try:\n",
    "        cols = dataframe.columns\n",
    "        cols = [col.replace(' ', '_').lower() for col in cols]\n",
    "        dataframe.columns = cols\n",
    "\n",
    "        return dataframe\n",
    "\n",
    "    except NameError:\n",
    "        print('There is an unresolved reference to the dataframe in the function\\'s argument.\\n'\n",
    "              'Make sure that the dataframe has been read and defined.')\n",
    "\n",
    "\n",
    "# endregion\n",
    "\n",
    "mouse_metadata_path = 'pymaceuticals/data/Mouse_metadata.csv'\n",
    "study_results_path = 'pymaceuticals/data/Study_results.csv'\n",
    "\n",
    "# Read the mouse data and the study results\n",
    "\n",
    "# Read the mouse data and the study results\n",
    "mouse_metadata = pd.read_csv(mouse_metadata_path)\n",
    "study_results = pd.read_csv(study_results_path)\n",
    "\n",
    "# Combine the data into a single dataset\n",
    "combined_df = pd.merge(mouse_metadata, study_results)\n",
    "# region\n",
    "mouse_cols_original = mouse_metadata.columns\n",
    "study_cols_original = study_results.columns\n",
    "combined_cols_original = combined_df.columns\n",
    "\n",
    "df_list = [mouse_metadata, study_results, combined_df]\n",
    "\n",
    "for df in df_list:\n",
    "    df = spaceless_lowers(df)\n",
    "\n",
    "combined_df.sex.replace(\n",
    "        {\n",
    "                'Female': 0,\n",
    "                'Male': 1\n",
    "        },\n",
    "        inplace=True\n",
    ")\n",
    "\n",
    "# endregion\n",
    "# Display the data table for preview\n",
    "combined_df"
   ]
  },
  {
   "cell_type": "code",
   "execution_count": 2,
   "metadata": {},
   "outputs": [],
   "source": [
    "# Checking the number of mice.\n",
    "print(combined_df.mouse_id.nunique())"
   ]
  },
  {
   "cell_type": "code",
   "execution_count": 3,
   "metadata": {},
   "outputs": [],
   "source": [
    "# Getting the duplicate mice by ID number that shows up for Mouse ID and Timepoint.\n",
    "mice = combined_df[combined_df.duplicated(subset=['mouse_id', 'timepoint'])]['mouse_id'].unique()\n",
    "print(combined_df.drop(combined_df[~combined_df.mouse_id.isin(mice)].index)[0:10])"
   ]
  },
  {
   "cell_type": "code",
   "execution_count": 4,
   "metadata": {},
   "outputs": [],
   "source": [
    "# Optional: Get all the data for the duplicate mouse ID. \n",
    "# im not entirely sure what this is asking, so i hope this is correct.\n",
    "optional_df = combined_df.drop(combined_df[~combined_df.mouse_id.isin(mice)].index)\n",
    "print(optional_df)"
   ]
  },
  {
   "cell_type": "code",
   "execution_count": 5,
   "metadata": {},
   "outputs": [],
   "source": [
    "# Create a clean DataFrame by dropping the duplicate mouse by its ID.\n",
    "cleaned_df = combined_df.drop(combined_df[combined_df.mouse_id.isin(mice)].index)"
   ]
  },
  {
   "cell_type": "code",
   "execution_count": 6,
   "metadata": {},
   "outputs": [],
   "source": [
    "# Checking the number of mice in the clean DataFrame.\n",
    "print(cleaned_df.mouse_id.nunique())"
   ]
  },
  {
   "cell_type": "markdown",
   "metadata": {},
   "source": [
    "## Summary Statistics"
   ]
  },
  {
   "cell_type": "code",
   "execution_count": 7,
   "metadata": {},
   "outputs": [],
   "source": [
    "# Generate a summary statistics table of mean, median, variance, standard deviation, and SEM of the tumor volume for each regimen\n",
    "\n",
    "# Use groupby and summary statistical methods to calculate the following properties of each drug regimen: \n",
    "# mean, median, variance, standard deviation, and SEM of the tumor volume. \n",
    "# Assemble the resulting series into a single summary dataframe.\n",
    "stats_to_get = 'mean median var std sem'.split()\n",
    "\n",
    "\n",
    "# region\n",
    "def the_mean(gbo):\n",
    "    return gbo.mean()\n",
    "\n",
    "\n",
    "def the_median(gbo):\n",
    "    return gbo.median()\n",
    "\n",
    "\n",
    "def the_var(gbo):\n",
    "    return gbo.var()\n",
    "\n",
    "\n",
    "def the_std(gbo):\n",
    "    return gbo.std()\n",
    "\n",
    "\n",
    "def the_sem(gbo):\n",
    "    return gbo.sem()\n",
    "\n",
    "\n",
    "# endregion\n",
    "\n",
    "stats_table = cleaned_df.groupby('drug_regimen')\n",
    "\n",
    "fcns = [the_mean, the_median, the_var, the_std, the_sem]\n",
    "names = ['mean', 'median', 'var', 'stdev', 'sem']\n",
    "names = [name.title() if name != 'sem' else name.upper() for name in names]\n",
    "fcn_names = dict(zip(names, fcns))\n",
    "\n",
    "the_long_way = {}\n",
    "\n",
    "for k, v in fcn_names.items():\n",
    "    the_long_way[k] = v(stats_table)['tumor_volume_(mm3)']\n",
    "\n",
    "# is rounding ok?\n",
    "df_long_way = round(pd.DataFrame(the_long_way).rename_axis(mouse_cols_original[1]), 3)\n",
    "print(df_long_way)"
   ]
  },
  {
   "cell_type": "markdown",
   "metadata": {
    "pycharm": {
     "name": "#%% md\n"
    }
   },
   "source": [
    "Generate a summary statistics table of mean, median, variance, standard deviation, and SEM of the tumor volume for each regimen.\n",
    "\n",
    "Using the aggregation method, produce the same summary statistics in a single line\n"
   ]
  },
  {
   "cell_type": "code",
   "execution_count": null,
   "outputs": [],
   "source": [
    "why_couldnt_i_do_this_earlier = stats_table.agg(stats_to_get)['tumor_volume_(mm3)']\n",
    "\n",
    "why_couldnt_i_do_this_earlier.columns = [col.title() if col != 'sem' else col.upper() for col in\n",
    "                                         why_couldnt_i_do_this_earlier.columns]\n",
    "# Assemble the resulting series into a single summary dataframe.\n",
    "print(why_couldnt_i_do_this_earlier)"
   ],
   "metadata": {
    "collapsed": false,
    "pycharm": {
     "name": "#%%\n"
    }
   }
  },
  {
   "cell_type": "markdown",
   "metadata": {},
   "source": [
    "## Bar and Pie Charts"
   ]
  },
  {
   "cell_type": "code",
   "execution_count": 9,
   "metadata": {},
   "outputs": [],
   "source": [
    "# Generate a bar plot showing the total number of timepoints for all mice tested for each drug regimen using Pandas.\n",
    "# the default backend is plt, so these next things are essentially the same.\n",
    "# pd.options.plotting.backend = 'plotly'\n",
    "\n",
    "gbo_drugs = combined_df.groupby('drug_regimen')['mouse_id']\n",
    "\n",
    "gbo_drugs.count().plot(\n",
    "        kind='bar',\n",
    "        title='Total Timepoints for all Mice in each Regimen',\n",
    "        figsize=(10, 9),\n",
    "        xlabel='Drug Used',\n",
    "        ylabel='Count of Mice',\n",
    "        rot=45\n",
    ")\n",
    "\n",
    "plt.savefig('gbo_drugs_pd.png')\n",
    "\n",
    "plt.show()"
   ]
  },
  {
   "cell_type": "code",
   "execution_count": 10,
   "metadata": {},
   "outputs": [],
   "source": [
    "# Generate a bar plot showing the total number of timepoints for all mice tested for each drug regimen using pyplot.\n",
    "x, y = gbo_drugs.groups.keys(), gbo_drugs.count()\n",
    "\n",
    "fig, ax = plt.subplots(figsize=(10, 9))\n",
    "\n",
    "plot1 = ax.bar(\n",
    "        x,\n",
    "        height=y,\n",
    "        label='Drug Regimen'\n",
    ")\n",
    "\n",
    "plt.xticks(rotation=45)\n",
    "\n",
    "plt.xlabel('Drug Regimen')\n",
    "plt.ylabel('Count of Mice')\n",
    "plt.title('Total Timepoints for all Mice in each Regimen')\n",
    "\n",
    "plt.tight_layout()\n",
    "\n",
    "plt.savefig('gbo_drugs_plt.png')\n",
    "plt.show()"
   ]
  },
  {
   "cell_type": "code",
   "execution_count": 11,
   "metadata": {},
   "outputs": [],
   "source": [
    "gbo_sex = combined_df.groupby('sex')\n",
    "fig, ax = plt.subplots()\n",
    "# Generate a pie plot showing the distribution of female versus male mice using Pandas\n",
    "gbo_sex.count().plot(\n",
    "        kind='pie',\n",
    "        y='mouse_id',\n",
    "        title='Male vs Female Mice',\n",
    "        ax=ax,\n",
    "        ylabel='Count of Sex',\n",
    "        figsize=(6, 6),\n",
    "        labels=['Female', 'Male'],\n",
    "        autopct='%2.1f%%'\n",
    ")\n",
    "\n",
    "ax.legend(['Female', 'Male'])\n",
    "plt.tight_layout()\n",
    "plt.savefig('gbo_sex_pd.png')\n",
    "plt.show()\n",
    "\n"
   ]
  },
  {
   "cell_type": "code",
   "execution_count": 12,
   "metadata": {},
   "outputs": [],
   "source": [
    "# Generate a pie plot showing the distribution of female versus male mice using pyplot\n",
    "fig, ax = plt.subplots(figsize=(8, 8))\n",
    "labels = ['Female', \"Male\"]\n",
    "\n",
    "sizes = gbo_sex['sex'].count()\n",
    "\n",
    "ax.pie(\n",
    "        x=sizes,\n",
    "        labels=labels,\n",
    "        autopct='%3.1f%%',\n",
    "        textprops={'fontsize': 14}\n",
    ")\n",
    "\n",
    "plt.legend()\n",
    "\n",
    "plt.tight_layout()\n",
    "\n",
    "plt.savefig('gbo_sex_plt.png')\n",
    "plt.show()\n"
   ]
  },
  {
   "cell_type": "markdown",
   "metadata": {},
   "source": [
    "## Quartiles, Outliers and Boxplots"
   ]
  },
  {
   "cell_type": "code",
   "execution_count": 13,
   "metadata": {},
   "outputs": [],
   "source": [
    "# Calculate the final tumor volume of each mouse across four of the treatment regimens:  \n",
    "# Capomulin, Ramicane, Infubinol, and Ceftamin\n",
    "\n",
    "best_drugs = 'Capomulin Ramicane Infubinol Ceftamin'.split()\n",
    "best_drugs_df = combined_df[combined_df['drug_regimen'].isin(best_drugs)]\n",
    "\n",
    "best_drugs_df['drug_regimen'].unique()\n",
    "\n",
    "best_drugs_df.sort_values('timepoint', inplace=True)\n",
    "# Start by getting the last (greatest) timepoint for each mouse\n",
    "\n",
    "gbo_best_drugs = best_drugs_df.groupby(\n",
    "        [\n",
    "                'drug_regimen', 'mouse_id'\n",
    "        ]\n",
    ").last()['tumor_volume_(mm3)']\n",
    "\n",
    "gbo_best_drugs.head(30)\n",
    "best_drugs_df = gbo_best_drugs.reset_index()\n",
    "\n",
    "# Merge this group df with the original dataframe to get the tumor volume at the last timepoint\n",
    "concat_df = pd.concat([cleaned_df, best_drugs_df])\n",
    "cconc = concat_df[concat_df['drug_regimen'].isin(best_drugs)]\n",
    "cconc.dropna(inplace=True)\n",
    "tvol_gbo = cconc.groupby('drug_regimen')\n",
    "\n",
    "quants = tvol_gbo['tumor_volume_(mm3)'].quantile([0.25, 0.75])"
   ]
  },
  {
   "cell_type": "code",
   "execution_count": 14,
   "metadata": {},
   "outputs": [],
   "source": [
    "# Put treatments into a list for for loop (and later for plot labels)\n",
    "# Create empty list to fill with tumor vol data (for plotting)\n",
    "# Calculate the IQR and quantitatively determine if there are any potential outliers.\n",
    "# Locate the rows which contain mice on each drug and get the tumor volumes\n",
    "\n",
    "list_tvol = cconc.groupby('drug_regimen')['tumor_volume_(mm3)'].apply(list)\n",
    "\n",
    "quant_gbo = quants.groupby('drug_regimen')\n",
    "iqrs = quant_gbo.last() - quant_gbo.first()\n",
    "print(iqrs)\n",
    "\n",
    "mice = tvol_gbo.mouse_id.sample(1)\n",
    "\n",
    "# add subset\n",
    "# i dont understand this instruction\n",
    "\n",
    "# Determine outliers using upper and lower bounds\n",
    "d = {}\n",
    "for drug in iqrs.index:\n",
    "    lbound = quants[drug][0.25] - 1.5 * iqrs[drug]\n",
    "    ubound = quants[drug][0.75] + 1.5 * iqrs[drug]\n",
    "\n",
    "    d[drug] = [lbound, ubound]\n",
    "    print(\n",
    "            f'{drug}:\\n'\n",
    "            f'Lowerbound: {round(d[drug][0], 3)}\\n'\n",
    "            f'Upperbound: {round(d[drug][1], 3)}\\n\\n'\n",
    "    )"
   ]
  },
  {
   "cell_type": "code",
   "execution_count": 15,
   "metadata": {},
   "outputs": [],
   "source": [
    "# Generate a box plot of the final tumor volume of each mouse across four regimens of interest\n",
    "fig, ax = plt.subplots()\n",
    "\n",
    "ax.boxplot(\n",
    "        list_tvol,\n",
    "        labels=best_drugs\n",
    ")\n",
    "\n",
    "ax.set_title('Tumor Volume Based on Drug Regimen')\n",
    "ax.set_xlabel('Drug Regimen')\n",
    "ax.set_ylabel('Tumor Volume (mm³)')\n",
    "\n",
    "plt.savefig('boxplot.png')\n",
    "plt.show()"
   ]
  },
  {
   "cell_type": "markdown",
   "metadata": {},
   "source": [
    "## Line and Scatter Plots"
   ]
  },
  {
   "cell_type": "code",
   "execution_count": 16,
   "metadata": {},
   "outputs": [],
   "source": [
    "# Generate a line plot of tumor volume vs. time point for a mouse treated with Capomulin\n"
   ]
  },
  {
   "cell_type": "code",
   "execution_count": 17,
   "metadata": {},
   "outputs": [],
   "source": [
    "# Generate a scatter plot of average tumor volume vs. mouse weight for the Capomulin regimen\n"
   ]
  },
  {
   "cell_type": "markdown",
   "metadata": {},
   "source": [
    "## Correlation and Regression"
   ]
  },
  {
   "cell_type": "code",
   "execution_count": 18,
   "metadata": {},
   "outputs": [],
   "source": [
    "# Calculate the correlation coefficient and linear regression model \n",
    "# for mouse weight and average tumor volume for the Capomulin regimen\n"
   ]
  },
  {
   "cell_type": "code",
   "execution_count": null,
   "metadata": {},
   "outputs": [],
   "source": []
  }
 ],
 "metadata": {
  "anaconda-cloud": {},
  "kernelspec": {
   "display_name": "Python 3",
   "language": "python",
   "name": "python3"
  },
  "language_info": {
   "codemirror_mode": {
    "name": "ipython",
    "version": 3
   },
   "file_extension": ".py",
   "mimetype": "text/x-python",
   "name": "python",
   "nbconvert_exporter": "python",
   "pygments_lexer": "ipython3",
   "version": "3.7.7"
  }
 },
 "nbformat": 4,
 "nbformat_minor": 4
}